{
 "cells": [
  {
   "cell_type": "code",
   "execution_count": 1,
   "id": "07af738f",
   "metadata": {},
   "outputs": [
    {
     "name": "stdout",
     "output_type": "stream",
     "text": [
      "Welcome Ted\n"
     ]
    }
   ],
   "source": [
    "import pandas as pd\n",
    "import numpy as np\n",
    "import seaborn as sns\n",
    "import matplotlib.pyplot as plt\n",
    "%matplotlib inline\n",
    "print('Welcome Ted')"
   ]
  },
  {
   "cell_type": "code",
   "execution_count": 2,
   "id": "b58e8a4e",
   "metadata": {},
   "outputs": [],
   "source": [
    "Thevenin = pd.read_excel('Donnee Finance.xlsx')"
   ]
  },
  {
   "cell_type": "code",
   "execution_count": 3,
   "id": "7d3d8ae5",
   "metadata": {},
   "outputs": [
    {
     "data": {
      "text/html": [
       "<div>\n",
       "<style scoped>\n",
       "    .dataframe tbody tr th:only-of-type {\n",
       "        vertical-align: middle;\n",
       "    }\n",
       "\n",
       "    .dataframe tbody tr th {\n",
       "        vertical-align: top;\n",
       "    }\n",
       "\n",
       "    .dataframe thead th {\n",
       "        text-align: right;\n",
       "    }\n",
       "</style>\n",
       "<table border=\"1\" class=\"dataframe\">\n",
       "  <thead>\n",
       "    <tr style=\"text-align: right;\">\n",
       "      <th></th>\n",
       "      <th>periode</th>\n",
       "      <th>recette fiscale</th>\n",
       "      <th>recette non fiscale</th>\n",
       "      <th>depenses</th>\n",
       "      <th>finacement</th>\n",
       "      <th>Budget</th>\n",
       "    </tr>\n",
       "  </thead>\n",
       "  <tbody>\n",
       "    <tr>\n",
       "      <th>0</th>\n",
       "      <td>January-05</td>\n",
       "      <td>13571</td>\n",
       "      <td>288</td>\n",
       "      <td>19518</td>\n",
       "      <td>-10312</td>\n",
       "      <td>23066</td>\n",
       "    </tr>\n",
       "    <tr>\n",
       "      <th>1</th>\n",
       "      <td>February-05</td>\n",
       "      <td>10427</td>\n",
       "      <td>643</td>\n",
       "      <td>21658</td>\n",
       "      <td>2865</td>\n",
       "      <td>35594</td>\n",
       "    </tr>\n",
       "    <tr>\n",
       "      <th>2</th>\n",
       "      <td>March-05</td>\n",
       "      <td>16270</td>\n",
       "      <td>494</td>\n",
       "      <td>20191</td>\n",
       "      <td>-3940</td>\n",
       "      <td>33016</td>\n",
       "    </tr>\n",
       "    <tr>\n",
       "      <th>3</th>\n",
       "      <td>April-05</td>\n",
       "      <td>15443</td>\n",
       "      <td>354</td>\n",
       "      <td>22045</td>\n",
       "      <td>2074</td>\n",
       "      <td>39918</td>\n",
       "    </tr>\n",
       "    <tr>\n",
       "      <th>4</th>\n",
       "      <td>May-05</td>\n",
       "      <td>10818</td>\n",
       "      <td>1037</td>\n",
       "      <td>23497</td>\n",
       "      <td>2969</td>\n",
       "      <td>38323</td>\n",
       "    </tr>\n",
       "  </tbody>\n",
       "</table>\n",
       "</div>"
      ],
      "text/plain": [
       "       periode  recette fiscale  recette non fiscale  depenses   finacement   \\\n",
       "0   January-05            13571                  288      19518       -10312   \n",
       "1  February-05            10427                  643      21658         2865   \n",
       "2     March-05            16270                  494      20191        -3940   \n",
       "3     April-05            15443                  354      22045         2074   \n",
       "4       May-05            10818                 1037      23497         2969   \n",
       "\n",
       "   Budget  \n",
       "0   23066  \n",
       "1   35594  \n",
       "2   33016  \n",
       "3   39918  \n",
       "4   38323  "
      ]
     },
     "execution_count": 3,
     "metadata": {},
     "output_type": "execute_result"
    }
   ],
   "source": [
    "Thevenin.head()"
   ]
  },
  {
   "cell_type": "code",
   "execution_count": 4,
   "id": "61443a48",
   "metadata": {},
   "outputs": [],
   "source": [
    "impundu =Thevenin.drop('periode', axis=1)"
   ]
  },
  {
   "cell_type": "code",
   "execution_count": 5,
   "id": "2ce1460f",
   "metadata": {},
   "outputs": [
    {
     "data": {
      "text/html": [
       "<div>\n",
       "<style scoped>\n",
       "    .dataframe tbody tr th:only-of-type {\n",
       "        vertical-align: middle;\n",
       "    }\n",
       "\n",
       "    .dataframe tbody tr th {\n",
       "        vertical-align: top;\n",
       "    }\n",
       "\n",
       "    .dataframe thead th {\n",
       "        text-align: right;\n",
       "    }\n",
       "</style>\n",
       "<table border=\"1\" class=\"dataframe\">\n",
       "  <thead>\n",
       "    <tr style=\"text-align: right;\">\n",
       "      <th></th>\n",
       "      <th>recette fiscale</th>\n",
       "      <th>recette non fiscale</th>\n",
       "      <th>depenses</th>\n",
       "      <th>finacement</th>\n",
       "      <th>Budget</th>\n",
       "    </tr>\n",
       "  </thead>\n",
       "  <tbody>\n",
       "    <tr>\n",
       "      <th>count</th>\n",
       "      <td>198.00</td>\n",
       "      <td>198.00</td>\n",
       "      <td>198.00</td>\n",
       "      <td>198.00</td>\n",
       "      <td>198.00</td>\n",
       "    </tr>\n",
       "    <tr>\n",
       "      <th>mean</th>\n",
       "      <td>42524.10</td>\n",
       "      <td>4108.07</td>\n",
       "      <td>74375.10</td>\n",
       "      <td>13243.23</td>\n",
       "      <td>134820.20</td>\n",
       "    </tr>\n",
       "    <tr>\n",
       "      <th>std</th>\n",
       "      <td>22934.37</td>\n",
       "      <td>3828.80</td>\n",
       "      <td>45172.37</td>\n",
       "      <td>29054.89</td>\n",
       "      <td>86283.53</td>\n",
       "    </tr>\n",
       "    <tr>\n",
       "      <th>min</th>\n",
       "      <td>10427.00</td>\n",
       "      <td>288.00</td>\n",
       "      <td>109.00</td>\n",
       "      <td>-78737.00</td>\n",
       "      <td>-9638.00</td>\n",
       "    </tr>\n",
       "    <tr>\n",
       "      <th>25%</th>\n",
       "      <td>22251.75</td>\n",
       "      <td>1027.25</td>\n",
       "      <td>40006.75</td>\n",
       "      <td>1655.75</td>\n",
       "      <td>67360.00</td>\n",
       "    </tr>\n",
       "    <tr>\n",
       "      <th>50%</th>\n",
       "      <td>39958.50</td>\n",
       "      <td>3241.50</td>\n",
       "      <td>70607.50</td>\n",
       "      <td>10049.00</td>\n",
       "      <td>129248.00</td>\n",
       "    </tr>\n",
       "    <tr>\n",
       "      <th>75%</th>\n",
       "      <td>57673.00</td>\n",
       "      <td>5584.50</td>\n",
       "      <td>99653.75</td>\n",
       "      <td>24019.25</td>\n",
       "      <td>184190.75</td>\n",
       "    </tr>\n",
       "    <tr>\n",
       "      <th>max</th>\n",
       "      <td>105112.00</td>\n",
       "      <td>20078.00</td>\n",
       "      <td>409881.00</td>\n",
       "      <td>285662.00</td>\n",
       "      <td>798923.00</td>\n",
       "    </tr>\n",
       "  </tbody>\n",
       "</table>\n",
       "</div>"
      ],
      "text/plain": [
       "       recette fiscale  recette non fiscale  depenses   finacement      Budget\n",
       "count           198.00               198.00     198.00       198.00     198.00\n",
       "mean          42524.10              4108.07   74375.10     13243.23  134820.20\n",
       "std           22934.37              3828.80   45172.37     29054.89   86283.53\n",
       "min           10427.00               288.00     109.00    -78737.00   -9638.00\n",
       "25%           22251.75              1027.25   40006.75      1655.75   67360.00\n",
       "50%           39958.50              3241.50   70607.50     10049.00  129248.00\n",
       "75%           57673.00              5584.50   99653.75     24019.25  184190.75\n",
       "max          105112.00             20078.00  409881.00    285662.00  798923.00"
      ]
     },
     "execution_count": 5,
     "metadata": {},
     "output_type": "execute_result"
    }
   ],
   "source": [
    "Thevenin.describe().round(2)"
   ]
  },
  {
   "cell_type": "code",
   "execution_count": 6,
   "id": "fec77142",
   "metadata": {},
   "outputs": [
    {
     "data": {
      "text/html": [
       "<div>\n",
       "<style scoped>\n",
       "    .dataframe tbody tr th:only-of-type {\n",
       "        vertical-align: middle;\n",
       "    }\n",
       "\n",
       "    .dataframe tbody tr th {\n",
       "        vertical-align: top;\n",
       "    }\n",
       "\n",
       "    .dataframe thead th {\n",
       "        text-align: right;\n",
       "    }\n",
       "</style>\n",
       "<table border=\"1\" class=\"dataframe\">\n",
       "  <thead>\n",
       "    <tr style=\"text-align: right;\">\n",
       "      <th></th>\n",
       "      <th>recette fiscale</th>\n",
       "      <th>recette non fiscale</th>\n",
       "      <th>depenses</th>\n",
       "      <th>finacement</th>\n",
       "      <th>Budget</th>\n",
       "    </tr>\n",
       "  </thead>\n",
       "  <tbody>\n",
       "    <tr>\n",
       "      <th>0</th>\n",
       "      <td>13571</td>\n",
       "      <td>288</td>\n",
       "      <td>19518</td>\n",
       "      <td>-10312</td>\n",
       "      <td>23066</td>\n",
       "    </tr>\n",
       "    <tr>\n",
       "      <th>1</th>\n",
       "      <td>10427</td>\n",
       "      <td>643</td>\n",
       "      <td>21658</td>\n",
       "      <td>2865</td>\n",
       "      <td>35594</td>\n",
       "    </tr>\n",
       "    <tr>\n",
       "      <th>2</th>\n",
       "      <td>16270</td>\n",
       "      <td>494</td>\n",
       "      <td>20191</td>\n",
       "      <td>-3940</td>\n",
       "      <td>33016</td>\n",
       "    </tr>\n",
       "    <tr>\n",
       "      <th>3</th>\n",
       "      <td>15443</td>\n",
       "      <td>354</td>\n",
       "      <td>22045</td>\n",
       "      <td>2074</td>\n",
       "      <td>39918</td>\n",
       "    </tr>\n",
       "    <tr>\n",
       "      <th>4</th>\n",
       "      <td>10818</td>\n",
       "      <td>1037</td>\n",
       "      <td>23497</td>\n",
       "      <td>2969</td>\n",
       "      <td>38323</td>\n",
       "    </tr>\n",
       "  </tbody>\n",
       "</table>\n",
       "</div>"
      ],
      "text/plain": [
       "   recette fiscale  recette non fiscale  depenses   finacement   Budget\n",
       "0            13571                  288      19518       -10312   23066\n",
       "1            10427                  643      21658         2865   35594\n",
       "2            16270                  494      20191        -3940   33016\n",
       "3            15443                  354      22045         2074   39918\n",
       "4            10818                 1037      23497         2969   38323"
      ]
     },
     "execution_count": 6,
     "metadata": {},
     "output_type": "execute_result"
    }
   ],
   "source": [
    "impundu.head()"
   ]
  },
  {
   "cell_type": "code",
   "execution_count": 7,
   "id": "dc54da95",
   "metadata": {},
   "outputs": [],
   "source": [
    "x= impundu.drop('Budget', axis=1)\n",
    "y = impundu['Budget']"
   ]
  },
  {
   "cell_type": "code",
   "execution_count": 8,
   "id": "8576cdea",
   "metadata": {},
   "outputs": [
    {
     "data": {
      "text/html": [
       "<div>\n",
       "<style scoped>\n",
       "    .dataframe tbody tr th:only-of-type {\n",
       "        vertical-align: middle;\n",
       "    }\n",
       "\n",
       "    .dataframe tbody tr th {\n",
       "        vertical-align: top;\n",
       "    }\n",
       "\n",
       "    .dataframe thead th {\n",
       "        text-align: right;\n",
       "    }\n",
       "</style>\n",
       "<table border=\"1\" class=\"dataframe\">\n",
       "  <thead>\n",
       "    <tr style=\"text-align: right;\">\n",
       "      <th></th>\n",
       "      <th>recette fiscale</th>\n",
       "      <th>recette non fiscale</th>\n",
       "      <th>depenses</th>\n",
       "      <th>finacement</th>\n",
       "    </tr>\n",
       "  </thead>\n",
       "  <tbody>\n",
       "    <tr>\n",
       "      <th>0</th>\n",
       "      <td>13571</td>\n",
       "      <td>288</td>\n",
       "      <td>19518</td>\n",
       "      <td>-10312</td>\n",
       "    </tr>\n",
       "    <tr>\n",
       "      <th>1</th>\n",
       "      <td>10427</td>\n",
       "      <td>643</td>\n",
       "      <td>21658</td>\n",
       "      <td>2865</td>\n",
       "    </tr>\n",
       "    <tr>\n",
       "      <th>2</th>\n",
       "      <td>16270</td>\n",
       "      <td>494</td>\n",
       "      <td>20191</td>\n",
       "      <td>-3940</td>\n",
       "    </tr>\n",
       "    <tr>\n",
       "      <th>3</th>\n",
       "      <td>15443</td>\n",
       "      <td>354</td>\n",
       "      <td>22045</td>\n",
       "      <td>2074</td>\n",
       "    </tr>\n",
       "    <tr>\n",
       "      <th>4</th>\n",
       "      <td>10818</td>\n",
       "      <td>1037</td>\n",
       "      <td>23497</td>\n",
       "      <td>2969</td>\n",
       "    </tr>\n",
       "    <tr>\n",
       "      <th>...</th>\n",
       "      <td>...</td>\n",
       "      <td>...</td>\n",
       "      <td>...</td>\n",
       "      <td>...</td>\n",
       "    </tr>\n",
       "    <tr>\n",
       "      <th>193</th>\n",
       "      <td>72735</td>\n",
       "      <td>5196</td>\n",
       "      <td>117507</td>\n",
       "      <td>17661</td>\n",
       "    </tr>\n",
       "    <tr>\n",
       "      <th>194</th>\n",
       "      <td>101133</td>\n",
       "      <td>9562</td>\n",
       "      <td>137038</td>\n",
       "      <td>-6707</td>\n",
       "    </tr>\n",
       "    <tr>\n",
       "      <th>195</th>\n",
       "      <td>89860</td>\n",
       "      <td>10818</td>\n",
       "      <td>131189</td>\n",
       "      <td>14668</td>\n",
       "    </tr>\n",
       "    <tr>\n",
       "      <th>196</th>\n",
       "      <td>79749</td>\n",
       "      <td>6835</td>\n",
       "      <td>141569</td>\n",
       "      <td>31193</td>\n",
       "    </tr>\n",
       "    <tr>\n",
       "      <th>197</th>\n",
       "      <td>105112</td>\n",
       "      <td>16377</td>\n",
       "      <td>229632</td>\n",
       "      <td>78665</td>\n",
       "    </tr>\n",
       "  </tbody>\n",
       "</table>\n",
       "<p>198 rows × 4 columns</p>\n",
       "</div>"
      ],
      "text/plain": [
       "     recette fiscale  recette non fiscale  depenses   finacement \n",
       "0              13571                  288      19518       -10312\n",
       "1              10427                  643      21658         2865\n",
       "2              16270                  494      20191        -3940\n",
       "3              15443                  354      22045         2074\n",
       "4              10818                 1037      23497         2969\n",
       "..               ...                  ...        ...          ...\n",
       "193            72735                 5196     117507        17661\n",
       "194           101133                 9562     137038        -6707\n",
       "195            89860                10818     131189        14668\n",
       "196            79749                 6835     141569        31193\n",
       "197           105112                16377     229632        78665\n",
       "\n",
       "[198 rows x 4 columns]"
      ]
     },
     "execution_count": 8,
     "metadata": {},
     "output_type": "execute_result"
    }
   ],
   "source": [
    "x"
   ]
  },
  {
   "cell_type": "code",
   "execution_count": 9,
   "id": "d9efabf8",
   "metadata": {},
   "outputs": [
    {
     "data": {
      "text/html": [
       "<div>\n",
       "<style scoped>\n",
       "    .dataframe tbody tr th:only-of-type {\n",
       "        vertical-align: middle;\n",
       "    }\n",
       "\n",
       "    .dataframe tbody tr th {\n",
       "        vertical-align: top;\n",
       "    }\n",
       "\n",
       "    .dataframe thead th {\n",
       "        text-align: right;\n",
       "    }\n",
       "</style>\n",
       "<table border=\"1\" class=\"dataframe\">\n",
       "  <thead>\n",
       "    <tr style=\"text-align: right;\">\n",
       "      <th></th>\n",
       "      <th>recette fiscale</th>\n",
       "      <th>recette non fiscale</th>\n",
       "      <th>depenses</th>\n",
       "      <th>finacement</th>\n",
       "      <th>Budget</th>\n",
       "    </tr>\n",
       "  </thead>\n",
       "  <tbody>\n",
       "    <tr>\n",
       "      <th>recette fiscale</th>\n",
       "      <td>1.00</td>\n",
       "      <td>0.60</td>\n",
       "      <td>0.79</td>\n",
       "      <td>0.24</td>\n",
       "      <td>0.79</td>\n",
       "    </tr>\n",
       "    <tr>\n",
       "      <th>recette non fiscale</th>\n",
       "      <td>0.60</td>\n",
       "      <td>1.00</td>\n",
       "      <td>0.49</td>\n",
       "      <td>0.10</td>\n",
       "      <td>0.50</td>\n",
       "    </tr>\n",
       "    <tr>\n",
       "      <th>depenses</th>\n",
       "      <td>0.79</td>\n",
       "      <td>0.49</td>\n",
       "      <td>1.00</td>\n",
       "      <td>0.67</td>\n",
       "      <td>0.97</td>\n",
       "    </tr>\n",
       "    <tr>\n",
       "      <th>finacement</th>\n",
       "      <td>0.24</td>\n",
       "      <td>0.10</td>\n",
       "      <td>0.67</td>\n",
       "      <td>1.00</td>\n",
       "      <td>0.76</td>\n",
       "    </tr>\n",
       "    <tr>\n",
       "      <th>Budget</th>\n",
       "      <td>0.79</td>\n",
       "      <td>0.50</td>\n",
       "      <td>0.97</td>\n",
       "      <td>0.76</td>\n",
       "      <td>1.00</td>\n",
       "    </tr>\n",
       "  </tbody>\n",
       "</table>\n",
       "</div>"
      ],
      "text/plain": [
       "                     recette fiscale  recette non fiscale  depenses   \\\n",
       "recette fiscale                 1.00                 0.60       0.79   \n",
       "recette non fiscale             0.60                 1.00       0.49   \n",
       "depenses                        0.79                 0.49       1.00   \n",
       "finacement                      0.24                 0.10       0.67   \n",
       "Budget                          0.79                 0.50       0.97   \n",
       "\n",
       "                     finacement   Budget  \n",
       "recette fiscale             0.24    0.79  \n",
       "recette non fiscale         0.10    0.50  \n",
       "depenses                    0.67    0.97  \n",
       "finacement                  1.00    0.76  \n",
       "Budget                      0.76    1.00  "
      ]
     },
     "execution_count": 9,
     "metadata": {},
     "output_type": "execute_result"
    }
   ],
   "source": [
    "corr_matrix = Thevenin.corr().round(2)\n",
    "corr_matrix"
   ]
  },
  {
   "cell_type": "code",
   "execution_count": 10,
   "id": "1d6e9439",
   "metadata": {},
   "outputs": [],
   "source": [
    "# Splitting the dataset into training and test set.  \n",
    "from sklearn.model_selection import train_test_split  \n",
    "x_train, x_test, y_train, y_test= train_test_split(x, y, test_size= 0.2, random_state=0)"
   ]
  },
  {
   "cell_type": "code",
   "execution_count": 11,
   "id": "a831b861",
   "metadata": {},
   "outputs": [
    {
     "data": {
      "text/plain": [
       "LinearRegression()"
      ]
     },
     "execution_count": 11,
     "metadata": {},
     "output_type": "execute_result"
    }
   ],
   "source": [
    "#Fitting the MLR model to the training set:  \n",
    "from sklearn.linear_model import LinearRegression  \n",
    "regressor= LinearRegression()  \n",
    "regressor.fit(x_train, y_train)"
   ]
  },
  {
   "cell_type": "code",
   "execution_count": 12,
   "id": "6a6c7211",
   "metadata": {},
   "outputs": [
    {
     "data": {
      "text/plain": [
       "array([ 62189.47420894, 261201.20811757,  77485.67401634, 199071.38067557,\n",
       "         1740.76571668, 116338.03918824,  46275.85955826, 150439.47909981,\n",
       "        52110.11265542, 167182.63815902,  61932.74878724, 137884.25785964,\n",
       "       196941.83058672,  97277.11406463, 126727.76857781,  58929.55683497,\n",
       "        60611.29215671, 186846.32167484,  66114.15255263, 166864.69775055,\n",
       "       208243.58996459, 198770.2698198 ,  45383.66039872, 230370.63867317,\n",
       "       144169.28618837, 148081.92712707, 280405.80084471, 200177.57408882,\n",
       "       119994.69181179,  56810.76715487,  39819.31383   , 184910.30798605,\n",
       "       161264.44614962,  83517.05609598,  68127.12093672, 242418.81450249,\n",
       "       186919.08501872,  38243.45112343,  85342.52853405, 144868.66690802])"
      ]
     },
     "execution_count": 12,
     "metadata": {},
     "output_type": "execute_result"
    }
   ],
   "source": [
    "#Predicting the Test set result;  \n",
    "y_pred= regressor.predict(x_test)\n",
    "y_pred "
   ]
  },
  {
   "cell_type": "code",
   "execution_count": 13,
   "id": "fd36e2c1",
   "metadata": {},
   "outputs": [
    {
     "name": "stdout",
     "output_type": "stream",
     "text": [
      "Train Score:  0.9932262977561602\n",
      "Test Score:  0.9954478450775947\n"
     ]
    }
   ],
   "source": [
    "print('Train Score: ', regressor.score(x_train, y_train))  \n",
    "print('Test Score: ', regressor.score(x_test, y_test))"
   ]
  },
  {
   "cell_type": "code",
   "execution_count": 14,
   "id": "fca0891c",
   "metadata": {},
   "outputs": [
    {
     "data": {
      "text/plain": [
       "1524.94"
      ]
     },
     "execution_count": 14,
     "metadata": {},
     "output_type": "execute_result"
    }
   ],
   "source": [
    "regressor.intercept_.round(2)"
   ]
  },
  {
   "cell_type": "code",
   "execution_count": 15,
   "id": "fd4155eb",
   "metadata": {},
   "outputs": [
    {
     "data": {
      "text/plain": [
       "array([1.37, 1.15, 0.72, 1.23])"
      ]
     },
     "execution_count": 15,
     "metadata": {},
     "output_type": "execute_result"
    }
   ],
   "source": [
    "regressor.coef_.round(2)"
   ]
  },
  {
   "cell_type": "code",
   "execution_count": 16,
   "id": "f1bc07d4",
   "metadata": {},
   "outputs": [],
   "source": [
    "import statsmodels.api as smf "
   ]
  },
  {
   "cell_type": "code",
   "execution_count": 17,
   "id": "4b0a1955",
   "metadata": {},
   "outputs": [],
   "source": [
    "x = np.append(arr = np.ones((198,1)).astype(int), values=x, axis=1)"
   ]
  },
  {
   "cell_type": "code",
   "execution_count": 18,
   "id": "b1bdd2b1",
   "metadata": {},
   "outputs": [],
   "source": [
    "x_opt=x [:, [0,1,2,3,4]]  "
   ]
  },
  {
   "cell_type": "code",
   "execution_count": 19,
   "id": "12401efa",
   "metadata": {},
   "outputs": [
    {
     "data": {
      "text/html": [
       "<table class=\"simpletable\">\n",
       "<caption>OLS Regression Results</caption>\n",
       "<tr>\n",
       "  <th>Dep. Variable:</th>         <td>Budget</td>      <th>  R-squared:         </th> <td>   0.994</td> \n",
       "</tr>\n",
       "<tr>\n",
       "  <th>Model:</th>                   <td>OLS</td>       <th>  Adj. R-squared:    </th> <td>   0.994</td> \n",
       "</tr>\n",
       "<tr>\n",
       "  <th>Method:</th>             <td>Least Squares</td>  <th>  F-statistic:       </th> <td>   7556.</td> \n",
       "</tr>\n",
       "<tr>\n",
       "  <th>Date:</th>             <td>Tue, 01 Mar 2022</td> <th>  Prob (F-statistic):</th> <td>8.32e-211</td>\n",
       "</tr>\n",
       "<tr>\n",
       "  <th>Time:</th>                 <td>11:54:28</td>     <th>  Log-Likelihood:    </th> <td> -2029.8</td> \n",
       "</tr>\n",
       "<tr>\n",
       "  <th>No. Observations:</th>      <td>   198</td>      <th>  AIC:               </th> <td>   4070.</td> \n",
       "</tr>\n",
       "<tr>\n",
       "  <th>Df Residuals:</th>          <td>   193</td>      <th>  BIC:               </th> <td>   4086.</td> \n",
       "</tr>\n",
       "<tr>\n",
       "  <th>Df Model:</th>              <td>     4</td>      <th>                     </th>     <td> </td>    \n",
       "</tr>\n",
       "<tr>\n",
       "  <th>Covariance Type:</th>      <td>nonrobust</td>    <th>                     </th>     <td> </td>    \n",
       "</tr>\n",
       "</table>\n",
       "<table class=\"simpletable\">\n",
       "<tr>\n",
       "    <td></td>       <th>coef</th>     <th>std err</th>      <th>t</th>      <th>P>|t|</th>  <th>[0.025</th>    <th>0.975]</th>  \n",
       "</tr>\n",
       "<tr>\n",
       "  <th>const</th> <td> 1437.7186</td> <td> 1073.188</td> <td>    1.340</td> <td> 0.182</td> <td> -678.965</td> <td> 3554.402</td>\n",
       "</tr>\n",
       "<tr>\n",
       "  <th>x1</th>    <td>    1.3056</td> <td>    0.047</td> <td>   28.024</td> <td> 0.000</td> <td>    1.214</td> <td>    1.398</td>\n",
       "</tr>\n",
       "<tr>\n",
       "  <th>x2</th>    <td>    1.0606</td> <td>    0.164</td> <td>    6.474</td> <td> 0.000</td> <td>    0.737</td> <td>    1.384</td>\n",
       "</tr>\n",
       "<tr>\n",
       "  <th>x3</th>    <td>    0.7793</td> <td>    0.031</td> <td>   25.534</td> <td> 0.000</td> <td>    0.719</td> <td>    0.839</td>\n",
       "</tr>\n",
       "<tr>\n",
       "  <th>x4</th>    <td>    1.1740</td> <td>    0.030</td> <td>   38.808</td> <td> 0.000</td> <td>    1.114</td> <td>    1.234</td>\n",
       "</tr>\n",
       "</table>\n",
       "<table class=\"simpletable\">\n",
       "<tr>\n",
       "  <th>Omnibus:</th>       <td>366.760</td> <th>  Durbin-Watson:     </th>  <td>   2.087</td> \n",
       "</tr>\n",
       "<tr>\n",
       "  <th>Prob(Omnibus):</th> <td> 0.000</td>  <th>  Jarque-Bera (JB):  </th> <td>114436.397</td>\n",
       "</tr>\n",
       "<tr>\n",
       "  <th>Skew:</th>          <td> 9.764</td>  <th>  Prob(JB):          </th>  <td>    0.00</td> \n",
       "</tr>\n",
       "<tr>\n",
       "  <th>Kurtosis:</th>      <td>119.145</td> <th>  Cond. No.          </th>  <td>2.19e+05</td> \n",
       "</tr>\n",
       "</table><br/><br/>Notes:<br/>[1] Standard Errors assume that the covariance matrix of the errors is correctly specified.<br/>[2] The condition number is large, 2.19e+05. This might indicate that there are<br/>strong multicollinearity or other numerical problems."
      ],
      "text/plain": [
       "<class 'statsmodels.iolib.summary.Summary'>\n",
       "\"\"\"\n",
       "                            OLS Regression Results                            \n",
       "==============================================================================\n",
       "Dep. Variable:                 Budget   R-squared:                       0.994\n",
       "Model:                            OLS   Adj. R-squared:                  0.994\n",
       "Method:                 Least Squares   F-statistic:                     7556.\n",
       "Date:                Tue, 01 Mar 2022   Prob (F-statistic):          8.32e-211\n",
       "Time:                        11:54:28   Log-Likelihood:                -2029.8\n",
       "No. Observations:                 198   AIC:                             4070.\n",
       "Df Residuals:                     193   BIC:                             4086.\n",
       "Df Model:                           4                                         \n",
       "Covariance Type:            nonrobust                                         \n",
       "==============================================================================\n",
       "                 coef    std err          t      P>|t|      [0.025      0.975]\n",
       "------------------------------------------------------------------------------\n",
       "const       1437.7186   1073.188      1.340      0.182    -678.965    3554.402\n",
       "x1             1.3056      0.047     28.024      0.000       1.214       1.398\n",
       "x2             1.0606      0.164      6.474      0.000       0.737       1.384\n",
       "x3             0.7793      0.031     25.534      0.000       0.719       0.839\n",
       "x4             1.1740      0.030     38.808      0.000       1.114       1.234\n",
       "==============================================================================\n",
       "Omnibus:                      366.760   Durbin-Watson:                   2.087\n",
       "Prob(Omnibus):                  0.000   Jarque-Bera (JB):           114436.397\n",
       "Skew:                           9.764   Prob(JB):                         0.00\n",
       "Kurtosis:                     119.145   Cond. No.                     2.19e+05\n",
       "==============================================================================\n",
       "\n",
       "Notes:\n",
       "[1] Standard Errors assume that the covariance matrix of the errors is correctly specified.\n",
       "[2] The condition number is large, 2.19e+05. This might indicate that there are\n",
       "strong multicollinearity or other numerical problems.\n",
       "\"\"\""
      ]
     },
     "execution_count": 19,
     "metadata": {},
     "output_type": "execute_result"
    }
   ],
   "source": [
    "regressor_OLS=smf.OLS(endog = y, exog=x_opt).fit()  \n",
    "regressor_OLS.summary()  "
   ]
  },
  {
   "cell_type": "code",
   "execution_count": 20,
   "id": "6b5e88ad",
   "metadata": {},
   "outputs": [],
   "source": [
    "#from sklearn.metrics import confusion_matrix\n",
    "#ted_lr = confusion_matrix(y_test, y_pred)\n",
    "#ted_lr"
   ]
  },
  {
   "cell_type": "code",
   "execution_count": 21,
   "id": "206ec98b",
   "metadata": {},
   "outputs": [],
   "source": [
    "# from sklearn.neighbors import KNeighborsClassifier\n",
    "# knn_fin = KNeighborsClassifier(n_neighbors =5,n_jobs = -1,leaf_size = 60,algorithm='brute')"
   ]
  },
  {
   "cell_type": "code",
   "execution_count": 22,
   "id": "74824853",
   "metadata": {},
   "outputs": [],
   "source": [
    "# knn_fin.fit(x_train,y_train)"
   ]
  },
  {
   "cell_type": "code",
   "execution_count": 23,
   "id": "37ef7f08",
   "metadata": {},
   "outputs": [],
   "source": [
    "# y_pred_knn = knn_fin.predict(x_test)\n",
    "# y_pred_knn\n"
   ]
  },
  {
   "cell_type": "code",
   "execution_count": 24,
   "id": "df695f31",
   "metadata": {},
   "outputs": [],
   "source": [
    "# print('Train Score: ', knn_fin.score(x_train, y_train))  \n",
    "# print('Test Score: ', knn_fin.score(x_test, y_test))"
   ]
  },
  {
   "cell_type": "code",
   "execution_count": 25,
   "id": "fa076339",
   "metadata": {},
   "outputs": [],
   "source": [
    "from sklearn import svm\n",
    "svm_clf = svm.SVC(kernel ='linear')"
   ]
  },
  {
   "cell_type": "code",
   "execution_count": 26,
   "id": "ee534ef9",
   "metadata": {},
   "outputs": [
    {
     "data": {
      "text/plain": [
       "SVC(kernel='linear')"
      ]
     },
     "execution_count": 26,
     "metadata": {},
     "output_type": "execute_result"
    }
   ],
   "source": [
    "svm_clf.fit(x_train,y_train)"
   ]
  },
  {
   "cell_type": "code",
   "execution_count": 27,
   "id": "0cbae7cd",
   "metadata": {},
   "outputs": [],
   "source": [
    "y_pred_svm =svm_clf.predict(x_test)"
   ]
  },
  {
   "cell_type": "code",
   "execution_count": 28,
   "id": "560bbae8",
   "metadata": {},
   "outputs": [
    {
     "data": {
      "text/plain": [
       "array([ 60674, 248898,  71497, 209211,  55640, 111846,  50830, 141675,\n",
       "        51744, 155671,  81899, 129177, 177259,  83669, 124486,  60674,\n",
       "        62143, 191210,  60674, 155671, 205608, 209469,  62536, 237455,\n",
       "       144138, 139593, 289388, 209211, 145998,  57001,  40722, 179774,\n",
       "       158656,  81899,  57509, 220701, 192680,  35594,  82285, 141868],\n",
       "      dtype=int64)"
      ]
     },
     "execution_count": 28,
     "metadata": {},
     "output_type": "execute_result"
    }
   ],
   "source": [
    "y_pred_svm"
   ]
  },
  {
   "cell_type": "code",
   "execution_count": 29,
   "id": "91317c77",
   "metadata": {},
   "outputs": [
    {
     "data": {
      "text/plain": [
       "array([[0, 0, 0, ..., 0, 0, 0],\n",
       "       [0, 0, 0, ..., 0, 0, 0],\n",
       "       [0, 1, 0, ..., 0, 0, 0],\n",
       "       ...,\n",
       "       [0, 0, 0, ..., 0, 0, 0],\n",
       "       [0, 0, 0, ..., 0, 0, 1],\n",
       "       [0, 0, 0, ..., 0, 0, 0]], dtype=int64)"
      ]
     },
     "execution_count": 29,
     "metadata": {},
     "output_type": "execute_result"
    }
   ],
   "source": [
    "from sklearn.metrics import confusion_matrix\n",
    "ted_svm = confusion_matrix(y_test, y_pred_svm)\n",
    "ted_svm"
   ]
  },
  {
   "cell_type": "code",
   "execution_count": 30,
   "id": "7ca310dc",
   "metadata": {},
   "outputs": [
    {
     "name": "stdout",
     "output_type": "stream",
     "text": [
      "Accuracy : 0.0\n"
     ]
    }
   ],
   "source": [
    "from sklearn.metrics import accuracy_score\n",
    "svm_result = accuracy_score(y_test,y_pred_svm)\n",
    "print(\"Accuracy :\",svm_result)"
   ]
  },
  {
   "cell_type": "code",
   "execution_count": 44,
   "id": "6fb264af",
   "metadata": {},
   "outputs": [],
   "source": [
    "from sklearn.model_selection import train_test_split  \n",
    "x_train, x_test, y_train, y_test= train_test_split(impundu.drop(['Budget'], axis='columns'),impundu.Budget, test_size= 0.2, random_state=0)"
   ]
  },
  {
   "cell_type": "code",
   "execution_count": 53,
   "id": "43fc84aa",
   "metadata": {},
   "outputs": [],
   "source": [
    "\n",
    "from sklearn.ensemble import RandomForestRegressor"
   ]
  },
  {
   "cell_type": "code",
   "execution_count": 68,
   "id": "0c5cbdb2",
   "metadata": {},
   "outputs": [
    {
     "data": {
      "text/plain": [
       "RandomForestRegressor(max_depth=2, n_estimators=50, random_state=0)"
      ]
     },
     "execution_count": 68,
     "metadata": {},
     "output_type": "execute_result"
    }
   ],
   "source": [
    "clf = RandomForestRegressor(n_estimators=50, max_depth=2, random_state=0)\n",
    "clf.fit(x_train, y_train)"
   ]
  },
  {
   "cell_type": "code",
   "execution_count": 69,
   "id": "8955369b",
   "metadata": {},
   "outputs": [],
   "source": [
    "y_pred= clf.predict(x_test)"
   ]
  },
  {
   "cell_type": "code",
   "execution_count": 70,
   "id": "937d0885",
   "metadata": {},
   "outputs": [
    {
     "data": {
      "text/plain": [
       "array([ 61775.9839344 , 221089.27676727,  61775.9839344 , 196461.84944169,\n",
       "       103735.31110508, 103735.31110508,  61038.8358094 , 142288.90348453,\n",
       "        61038.8358094 , 179163.79569015, 102375.45716436, 105245.42391214,\n",
       "       192110.35194   ,  91022.73387441, 135512.5644151 ,  61775.9839344 ,\n",
       "        61775.9839344 , 186978.09219619,  61775.9839344 , 179163.79569015,\n",
       "       199315.0397354 , 196461.84944169,  70308.29776769, 218371.80447143,\n",
       "       135512.5644151 , 156369.89335201, 228624.84965616, 196461.84944169,\n",
       "       165684.27280705,  68906.07879595,  61038.8358094 , 179163.79569015,\n",
       "       179163.79569015, 134152.71047439,  61775.9839344 , 254889.9300185 ,\n",
       "       188292.71015688,  61038.8358094 ,  94481.27953156, 142288.90348453])"
      ]
     },
     "execution_count": 70,
     "metadata": {},
     "output_type": "execute_result"
    }
   ],
   "source": [
    "y_pred"
   ]
  },
  {
   "cell_type": "code",
   "execution_count": 71,
   "id": "47374a96",
   "metadata": {},
   "outputs": [
    {
     "data": {
      "text/plain": [
       "0.8937347265598382"
      ]
     },
     "execution_count": 71,
     "metadata": {},
     "output_type": "execute_result"
    }
   ],
   "source": [
    "clf.score(x_test,y_test)"
   ]
  },
  {
   "cell_type": "code",
   "execution_count": null,
   "id": "cd3afe32",
   "metadata": {},
   "outputs": [],
   "source": []
  }
 ],
 "metadata": {
  "kernelspec": {
   "display_name": "Python 3 (ipykernel)",
   "language": "python",
   "name": "python3"
  },
  "language_info": {
   "codemirror_mode": {
    "name": "ipython",
    "version": 3
   },
   "file_extension": ".py",
   "mimetype": "text/x-python",
   "name": "python",
   "nbconvert_exporter": "python",
   "pygments_lexer": "ipython3",
   "version": "3.9.7"
  }
 },
 "nbformat": 4,
 "nbformat_minor": 5
}
